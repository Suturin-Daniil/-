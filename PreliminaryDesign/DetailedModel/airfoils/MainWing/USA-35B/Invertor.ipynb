{
 "cells": [
  {
   "cell_type": "code",
   "execution_count": 1,
   "metadata": {},
   "outputs": [],
   "source": [
    "import numpy as np"
   ]
  },
  {
   "cell_type": "code",
   "execution_count": 4,
   "metadata": {},
   "outputs": [
    {
     "data": {
      "text/plain": [
       "array([[ 0.00e+00,  0.00e+00],\n",
       "       [ 1.25e-02,  2.39e-02],\n",
       "       [ 2.50e-02,  3.35e-02],\n",
       "       [ 5.00e-02,  4.76e-02],\n",
       "       [ 7.50e-02,  5.89e-02],\n",
       "       [ 1.00e-01,  6.69e-02],\n",
       "       [ 1.50e-01,  7.80e-02],\n",
       "       [ 2.00e-01,  8.52e-02],\n",
       "       [ 3.00e-01,  9.00e-02],\n",
       "       [ 4.00e-01,  8.66e-02],\n",
       "       [ 5.00e-01,  7.57e-02],\n",
       "       [ 6.00e-01,  6.05e-02],\n",
       "       [ 7.00e-01,  4.32e-02],\n",
       "       [ 8.00e-01,  2.26e-02],\n",
       "       [ 9.00e-01, -4.00e-04],\n",
       "       [ 9.50e-01, -1.26e-02],\n",
       "       [ 1.00e+00, -2.51e-02]])"
      ]
     },
     "execution_count": 4,
     "metadata": {},
     "output_type": "execute_result"
    }
   ],
   "source": [
    "Data = np.loadtxt('usa35b.txt')\n",
    "up = Data[0:17,:]\n",
    "down = Data[17:-1,:]\n",
    "g = up.tolist()\n",
    "g = np.array(g[::-1])\n",
    "d = np.concatenate((g,down),axis=0)\n",
    "np.savetxt('usatEdit.txt',d)\n",
    "up"
   ]
  },
  {
   "cell_type": "code",
   "execution_count": null,
   "metadata": {},
   "outputs": [],
   "source": []
  }
 ],
 "metadata": {
  "kernelspec": {
   "display_name": "Python 3",
   "language": "python",
   "name": "python3"
  },
  "language_info": {
   "codemirror_mode": {
    "name": "ipython",
    "version": 3
   },
   "file_extension": ".py",
   "mimetype": "text/x-python",
   "name": "python",
   "nbconvert_exporter": "python",
   "pygments_lexer": "ipython3",
   "version": "3.10.7"
  }
 },
 "nbformat": 4,
 "nbformat_minor": 2
}
